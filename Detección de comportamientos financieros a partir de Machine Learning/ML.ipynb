{
 "cells": [
  {
   "cell_type": "code",
   "execution_count": 1,
   "metadata": {
    "colab": {
     "base_uri": "https://localhost:8080/",
     "height": 731
    },
    "colab_type": "code",
    "executionInfo": {
     "elapsed": 15973,
     "status": "ok",
     "timestamp": 1570155336625,
     "user": {
      "displayName": "Iván Weigandi",
      "photoUrl": "",
      "userId": "15708614777543312350"
     },
     "user_tz": 180
    },
    "id": "UaOre8V_jkkr",
    "outputId": "a464d4e6-3df0-4385-af7f-61749f747228"
   },
   "outputs": [],
   "source": [
    "import datetime\n",
    "import pandas as pd\n",
    "import geopandas as gpd\n",
    "import numpy as np\n",
    "import io\n",
    "import matplotlib.pyplot as plt\n",
    "import seaborn as sns\n",
    "import warnings\n",
    "warnings.filterwarnings('ignore')\n",
    "from mpl_toolkits.axes_grid1 import make_axes_locatable\n",
    "import wbdata\n",
    "\n",
    "from descartes import PolygonPatch\n",
    "from sklearn.experimental import enable_iterative_imputer \n",
    "from sklearn.impute import IterativeImputer\n",
    "from sklearn import preprocessing\n",
    "from sklearn.model_selection import train_test_split\n",
    "\n",
    "from sklearn.metrics import mean_squared_error, r2_score, mean_absolute_error\n",
    "from sklearn.model_selection import GridSearchCV\n",
    "from sklearn.neighbors import KNeighborsClassifier\n",
    "from sklearn.linear_model import LogisticRegression\n",
    "from sklearn import svm, datasets\n",
    "from sklearn.svm import SVC\n",
    "from sklearn.metrics import accuracy_score\n",
    "\n",
    "\n",
    "from sklearn.linear_model import LassoCV, LassoLarsCV, LassoLarsIC\n",
    "from sklearn.linear_model import Lasso\n",
    "from sklearn.linear_model import lasso_path"
   ]
  },
  {
   "cell_type": "code",
   "execution_count": 2,
   "metadata": {
    "colab": {
     "base_uri": "https://localhost:8080/",
     "height": 453
    },
    "colab_type": "code",
    "executionInfo": {
     "elapsed": 742,
     "status": "error",
     "timestamp": 1570155367704,
     "user": {
      "displayName": "Iván Weigandi",
      "photoUrl": "",
      "userId": "15708614777543312350"
     },
     "user_tz": 180
    },
    "id": "O4EHkO26jkkv",
    "outputId": "6549f89e-fb2a-445c-e858-7da71c428998"
   },
   "outputs": [
    {
     "name": "stdout",
     "output_type": "stream",
     "text": [
      "Shape: (154923, 105)\n"
     ]
    }
   ],
   "source": [
    "#Importamos el dataset\n",
    "gfi = pd.read_csv(r'C:\\Users\\wdi_w\\Desktop\\W\\UTN\\Poster\\micro_world.csv') \n",
    "\n",
    "#Importamos las preguntas del cuestionario\n",
    "quest = pd.read_csv(r'C:\\Users\\wdi_w\\Desktop\\W\\UTN\\Poster\\Cuestionario.csv', delimiter=\";\")\n",
    "questd= dict(zip(quest.id,quest.Variable)) #Convertimos el cuestionario en diccionario\n",
    "\n",
    "#Importamos un mapamundi para utilizar con GeoPandas\n",
    "mapamundi=gpd.GeoDataFrame.from_file(r'C:\\Users\\wdi_w\\Desktop\\W\\UTN\\Poster\\World_Countries/World_Countries.shp')\n",
    "\n",
    "#observamos el temaño de la base\n",
    "print(f'Shape: {np.shape(gfi)}')\n"
   ]
  },
  {
   "cell_type": "code",
   "execution_count": 3,
   "metadata": {
    "colab": {},
    "colab_type": "code",
    "id": "eMB1sFD0jkk8",
    "outputId": "c47b479e-5b3a-4a18-f797-6359e7cff383"
   },
   "outputs": [],
   "source": [
    "#Quitamos los duplicados\n",
    "gfi.drop_duplicates(inplace=True, keep='first')\n",
    "total = gfi.isnull().sum().sort_values(ascending=False)\n",
    "porcentaje = (gfi.isnull().sum()/gfi.isnull().count()).sort_values(ascending=False)\n",
    "data_faltante = pd.concat([total, porcentaje], axis=1, keys=['Total', 'Porcentaje'])\n",
    "gfif = gfi.drop((data_faltante[data_faltante['Porcentaje'] > 0.5]).index,1) # eliminamos las columnas con mas de 15% de Nulos\n",
    "gfi_quest=gfif.iloc[:,11:] #Creamos un subset con los datos que tienen formato cuestionario\n",
    "gfi_inx=gfif.iloc[:,0:1] #Creamos un subset con los paises \n",
    "gfi_inx2=gfif.iloc[:,2:3] #Creamos un subset con las regiones\n",
    "gfi_datos=gfif.iloc[:,0:11] #Creamos un subset que incluye dichos indices y los datos que no son en formato cuestionario\n",
    "paises=gfi['economy'].unique() # Tomamos los valores unicos de pais \n",
    "paises_c=gfi['economycode'].unique() #Hacemos lo mismo con el codigo de pais\n",
    "region=gfi['regionwb'].unique() # Tomamos los valores unicos de region\n",
    "gfi_pais=pd.DataFrame() #Creamos un DF vacio\n",
    "gfi_region=pd.DataFrame() #Creamos un DF vacio\n",
    "imputer = IterativeImputer(missing_values = np.nan, initial_strategy = 'most_frequent', max_iter=3, random_state=0)\n",
    "imputer = imputer.fit(gfi_quest)\n",
    "gfi_quest2= (pd.DataFrame(imputer.transform(gfi_quest)))\n",
    "gfi_quest2.columns=gfi_quest.columns\n",
    "#se redondean las imputaciones para obtener valores enteros como son las respuestas del cuestionario\n",
    "gfi_quest2=gfi_quest2.round(0)\n",
    "gfi_quest4=gfi_quest2.replace([2, 3, 4], 0)\n",
    "gfi_f3=gfi_datos.join(gfi_quest4)\n",
    "gfi_f3=gfi_f3.dropna()"
   ]
  },
  {
   "cell_type": "code",
   "execution_count": 4,
   "metadata": {},
   "outputs": [
    {
     "name": "stdout",
     "output_type": "stream",
     "text": [
      "(152466, 63)\n"
     ]
    }
   ],
   "source": [
    "#Generamos dummies por region\n",
    "dummies = pd.get_dummies(gfi_f3.regionwb)\n",
    "gfi_f3=gfi_f3.join(dummies, how='left')\n",
    "print(gfi_f3.shape)\n"
   ]
  },
  {
   "cell_type": "code",
   "execution_count": 5,
   "metadata": {},
   "outputs": [],
   "source": [
    "#Dividimos el dataset entre Train y Test\n",
    "\n",
    "y = np.array(gfi_f3[[\"fin22a\"]])\n",
    "x = gfi_f3.drop(['economy','economycode','regionwb',\"borrowed\",\"fin22a\",\"fin19\"], axis=1)\n",
    "\n",
    "xtrain, xtest, ytrain, ytest = train_test_split(x, y, test_size=0.80, random_state=42)\n",
    "scaler = preprocessing.StandardScaler().fit(xtrain)\n",
    "xtrain_scal = scaler.transform(xtrain) \n",
    "xtest_scal = scaler.transform(xtest) "
   ]
  },
  {
   "cell_type": "code",
   "execution_count": 6,
   "metadata": {},
   "outputs": [
    {
     "data": {
      "text/plain": [
       "(121973, 20)"
      ]
     },
     "execution_count": 6,
     "metadata": {},
     "output_type": "execute_result"
    }
   ],
   "source": [
    "#Nos quedamos con las variables con mayor poder explicativo para reducir la dimensionalidad utilizando LASSO\n",
    "lasso_featsel = Lasso(alpha = 0.01)\n",
    "lasso_featsel.fit(xtrain_scal,ytrain)\n",
    "eps = 5e-3\n",
    "alphas_lasso, coefs_lasso, _ = lasso_path(xtrain_scal, ytrain, fit_intercept=False)\n",
    "lasso_feat_cols = lasso_featsel.coef_ != 0\n",
    "\n",
    "xtrain_scal_red_lasso = xtrain_scal[:, lasso_feat_cols]\n",
    "np.shape(xtrain_scal_red_lasso)\n",
    "xtest_scal_red_lasso = xtest_scal[:, lasso_feat_cols]\n",
    "np.shape(xtest_scal_red_lasso)"
   ]
  },
  {
   "cell_type": "code",
   "execution_count": 7,
   "metadata": {},
   "outputs": [
    {
     "data": {
      "text/plain": [
       "Index(['pop_adult', 'Respondent is in the workforce', 'Has a debit card',\n",
       "       'Used mobile phone or internet to check account balance',\n",
       "       'Has a credit card',\n",
       "       'If has account: any withdrawal from account in past 12 months',\n",
       "       'Made bill payments online using the Internet',\n",
       "       'Saved in past 12 months: using an account at a financial institution',\n",
       "       'Borrowed in past 12 months: for medical purposes',\n",
       "       'Borrowed in past 12 months: for farm/business purposes',\n",
       "       'Sent domestic remittances in past 12 months',\n",
       "       'Paid utility bills in past 12 months',\n",
       "       'If paid utility bills: using an account',\n",
       "       'If paid utility bills: through a mobile phone',\n",
       "       'Received wage payments in past 12 months',\n",
       "       'Received self-employment payments: in past 12 months',\n",
       "       'Has an account at a financial institution', 'Payments: wage payments',\n",
       "       'East Asia & Pacific (excluding high income)',\n",
       "       'Sub-Saharan Africa (excluding high income)'],\n",
       "      dtype='object')"
      ]
     },
     "execution_count": 7,
     "metadata": {},
     "output_type": "execute_result"
    }
   ],
   "source": [
    "# Vemos con que columnas nos quedamos despues de seleccionar con el Lasso\n",
    "x.iloc[:, lasso_feat_cols].rename(columns=questd).columns"
   ]
  },
  {
   "cell_type": "code",
   "execution_count": 8,
   "metadata": {},
   "outputs": [
    {
     "name": "stdout",
     "output_type": "stream",
     "text": [
      "Shape: (30493, 20)\n"
     ]
    }
   ],
   "source": [
    "#Vemos el tamaño del set\n",
    "print(\"Shape: \" +str(np.shape(xtrain_scal_red_lasso)))"
   ]
  },
  {
   "cell_type": "code",
   "execution_count": 9,
   "metadata": {},
   "outputs": [
    {
     "name": "stdout",
     "output_type": "stream",
     "text": [
      "The best parameters are {'C': 1, 'gamma': 0.01, 'kernel': 'rbf'} with a score of 0.89\n"
     ]
    }
   ],
   "source": [
    "#Corremos un svm. Por lo grande del set (la matriz), se probaron distintores valores de costos y...\n",
    "#gammas por partes y se dejaron los que mejor performance tenian\n",
    "parameters = {'kernel':['rbf'], 'C':[1], 'gamma':[0.001, 0.01]}\n",
    "svc = svm.SVC(cache_size=9000)\n",
    "svmm = GridSearchCV(svc, param_grid = parameters, refit = True, cv =3 )\n",
    "#cv indica la cantidad de folds\n",
    "#refit nos permite ajustar la muestra al final con los mejores parametros encontrados \n",
    "svmm.fit(xtrain_scal_red_lasso, ytrain.ravel())\n",
    "print(\"The best parameters are %s with a score of %0.2f\" % (svmm.best_params_, svmm.best_score_))"
   ]
  },
  {
   "cell_type": "code",
   "execution_count": 10,
   "metadata": {},
   "outputs": [
    {
     "name": "stdout",
     "output_type": "stream",
     "text": [
      "The best parameters are {'n_neighbors': 100} with a score of 0.88\n"
     ]
    }
   ],
   "source": [
    "#Corremos un modelo KNN\n",
    "parametersk= {\"n_neighbors\":[1, 10, 100] }\n",
    "knn=KNeighborsClassifier()\n",
    "knnm = GridSearchCV(knn, param_grid = parametersk, refit = True, cv = 5)\n",
    "knnm.fit(xtrain_scal_red_lasso, ytrain.ravel())\n",
    "print(\"The best parameters are %s with a score of %0.2f\" % (knnm.best_params_, knnm.best_score_))"
   ]
  },
  {
   "cell_type": "code",
   "execution_count": 11,
   "metadata": {},
   "outputs": [
    {
     "name": "stdout",
     "output_type": "stream",
     "text": [
      "The score is 0.88\n"
     ]
    }
   ],
   "source": [
    "#Corremos un modelo de regresion logistica\n",
    "lr = LogisticRegression(random_state=0, solver='lbfgs')\n",
    "lr.fit(xtrain_scal_red_lasso, ytrain.ravel())\n",
    "print(\"The score is %0.2f\" % (lr.score(xtrain_scal_red_lasso, ytrain.ravel())))"
   ]
  },
  {
   "cell_type": "code",
   "execution_count": 12,
   "metadata": {},
   "outputs": [],
   "source": [
    "#Generamos las predicciones\n",
    "y_pred_svm=svmm.predict(xtest_scal_red_lasso) \n",
    "y_pred_knn=knnm.predict(xtest_scal_red_lasso) \n",
    "y_pred_lr=lr.predict(xtest_scal_red_lasso)"
   ]
  },
  {
   "cell_type": "code",
   "execution_count": 13,
   "metadata": {},
   "outputs": [
    {
     "name": "stdout",
     "output_type": "stream",
     "text": [
      "RSME RL :0.3388638245603697\n",
      "RSME KNN:0.3369470625313736\n",
      "RSME SVM:0.33575268643132666\n",
      "------------------------\n",
      "MSE RL :0.11482869159568102\n",
      "MSE KNN:0.11353332294852139\n",
      "MSE SVM:0.11272986644585277\n",
      "------------------------\n",
      "MAE RL :0.11482869159568102\n",
      "MAE KNN:0.11353332294852139\n",
      "MAE SVM:0.11272986644585277\n",
      "------------------------\n",
      "Accuracy RL : 0.885171308404319\n",
      "Accuracy KNN: 0.8864666770514786\n",
      "Accuracy SVM: 0.8872701335541472\n"
     ]
    }
   ],
   "source": [
    "#Comparamos las regresiones con el test y comparamos las medidas de error\n",
    "\n",
    "print('RSME RL :'+ str(np.sqrt(mean_squared_error(ytest, y_pred_lr))))\n",
    "print('RSME KNN:'+ str(np.sqrt(mean_squared_error(ytest, y_pred_knn))))\n",
    "print('RSME SVM:'+ str(np.sqrt(mean_squared_error(ytest, y_pred_svm))))\n",
    "print('------------------------')\n",
    "print('MSE RL :'+str( mean_squared_error(ytest, y_pred_lr)))\n",
    "print('MSE KNN:'+str( mean_squared_error(ytest, y_pred_knn)))\n",
    "print('MSE SVM:'+str( mean_squared_error(ytest, y_pred_svm)))\n",
    "print('------------------------')\n",
    "print('MAE RL :'+str(mean_absolute_error(ytest, y_pred_lr)))\n",
    "print('MAE KNN:'+str(mean_absolute_error(ytest, y_pred_knn)))\n",
    "print('MAE SVM:'+str(mean_absolute_error(ytest, y_pred_svm)))\n",
    "print('------------------------')\n",
    "print(\"Accuracy RL : \" + str(accuracy_score(ytest, y_pred_lr)))\n",
    "print(\"Accuracy KNN: \" + str(accuracy_score(ytest, y_pred_knn)))\n",
    "print(\"Accuracy SVM: \" + str(accuracy_score(ytest, y_pred_svm)))"
   ]
  },
  {
   "cell_type": "code",
   "execution_count": 14,
   "metadata": {},
   "outputs": [
    {
     "name": "stdout",
     "output_type": "stream",
     "text": [
      "El AUC KNN es = 0.8069783526966453\n",
      "El AUC LR es = 0.8088363669702257\n"
     ]
    }
   ],
   "source": [
    " #AUC ROC del KNN\n",
    "from sklearn.metrics import roc_curve, auc\n",
    "from sklearn import metrics\n",
    "\n",
    "yproba = knnm.predict_proba(xtest_scal_red_lasso)\n",
    "yproba2 = lr.predict_proba(xtest_scal_red_lasso)\n",
    "fpr1, tpr1, thresholds = roc_curve(ytest.astype('int'), yproba[:,1], drop_intermediate = False)\n",
    "fpr2, tpr2, thresholds2 = roc_curve(ytest.astype('int'), yproba2[:,1], drop_intermediate = False)\n",
    "auc = metrics.auc(fpr1, tpr1)\n",
    "auc2 = metrics.auc(fpr2, tpr2)\n",
    "print(\"El AUC KNN es = \" + str(auc))\n",
    "print(\"El AUC LR es = \" + str(auc2))"
   ]
  },
  {
   "cell_type": "code",
   "execution_count": 15,
   "metadata": {},
   "outputs": [
    {
     "data": {
      "image/png": "[encoded data removed]",
      "text/plain": [
       "<Figure size 640x480 with 1 Axes>"
      ]
     },
     "metadata": {},
     "output_type": "display_data"
    }
   ],
   "source": [
    "from matplotlib.pyplot import figure\n",
    "figure(num=None, figsize=(8, 6), dpi=80, facecolor='w', edgecolor='k')\n",
    "plt.plot(fpr1, tpr1, lw=2, alpha=0.7 , label = 'Curva ROC KNN', color = 'b')\n",
    "plt.plot(fpr2, tpr2, lw=2, alpha=0.7 , label = 'Curva ROC LR', color = 'c')\n",
    "plt.plot([0, 1], [0, 1], linestyle='--', lw=1, color='r',label='Suerte', alpha=.8)\n",
    "plt.xlabel('Tasa de Falsos Positivos')\n",
    "plt.ylabel('Tasa de Verdaderos Positivos')\n",
    "plt.grid(False)\n",
    "\n",
    "plt.legend(loc=\"lower right\")\n",
    "plt.title('Curva ROC con KNN y LR')\n",
    "plt.show()"
   ]
  },
  {
   "cell_type": "code",
   "execution_count": 16,
   "metadata": {},
   "outputs": [
    {
     "data": {
      "image/png": "[encoded data removed]",
      "text/plain": [
       "<Figure size 432x288 with 2 Axes>"
      ]
     },
     "metadata": {
      "needs_background": "light"
     },
     "output_type": "display_data"
    }
   ],
   "source": [
    " #Matriz de confusion del SVM\n",
    "from sklearn.metrics import confusion_matrix\n",
    "cm = confusion_matrix(ytest, y_pred_svm)\n",
    "\n",
    "df_cm = pd.DataFrame(cm, index = ['Positivo', 'Negativo'], columns = ['Positivo', 'Negativo'])\n",
    "plt.figure(figsize = (6,4))\n",
    "sns.heatmap(df_cm, annot=True,fmt='g')\n",
    "plt.title('Matriz de Confusión')\n",
    "plt.show()"
   ]
  }
 ],
 "metadata": {
  "colab": {
   "collapsed_sections": [],
   "name": "Poster_GFI.ipynb",
   "provenance": []
  },
  "kernelspec": {
   "display_name": "Python 3",
   "language": "python",
   "name": "python3"
  },
  "language_info": {
   "codemirror_mode": {
    "name": "ipython",
    "version": 3
   },
   "file_extension": ".py",
   "mimetype": "text/x-python",
   "name": "python",
   "nbconvert_exporter": "python",
   "pygments_lexer": "ipython3",
   "version": "3.7.1"
  }
 },
 "nbformat": 4,
 "nbformat_minor": 1
}
